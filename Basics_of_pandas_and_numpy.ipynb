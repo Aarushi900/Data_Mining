{
  "nbformat": 4,
  "nbformat_minor": 0,
  "metadata": {
    "colab": {
      "provenance": [],
      "authorship_tag": "ABX9TyNsn1ggjOGkR6oDkw9Upi+M",
      "include_colab_link": true
    },
    "kernelspec": {
      "name": "python3",
      "display_name": "Python 3"
    },
    "language_info": {
      "name": "python"
    }
  },
  "cells": [
    {
      "cell_type": "markdown",
      "metadata": {
        "id": "view-in-github",
        "colab_type": "text"
      },
      "source": [
        "<a href=\"https://colab.research.google.com/github/Aarushi900/Data_Mining/blob/main/Basics_of_pandas_and_numpy.ipynb\" target=\"_parent\"><img src=\"https://colab.research.google.com/assets/colab-badge.svg\" alt=\"Open In Colab\"/></a>"
      ]
    },
    {
      "cell_type": "code",
      "source": [
        "import numpy as np\n",
        "import pandas as pd"
      ],
      "metadata": {
        "id": "u11iV8FbV-Oc"
      },
      "execution_count": 2,
      "outputs": []
    },
    {
      "cell_type": "markdown",
      "source": [
        "Reverse the NumPy array: arr = np.array([1, 2, 3, 6, 4, 5])"
      ],
      "metadata": {
        "id": "2OQ3cqdPV5JJ"
      }
    },
    {
      "cell_type": "code",
      "execution_count": null,
      "metadata": {
        "colab": {
          "base_uri": "https://localhost:8080/"
        },
        "id": "tvO1OEDSVuHo",
        "outputId": "f6fef764-3ec2-4b46-db8f-2212cbb2453d"
      },
      "outputs": [
        {
          "output_type": "stream",
          "name": "stdout",
          "text": [
            "[1 2 3 6 4 5]\n",
            "[5 4 6 3 2 1]\n",
            "[5 4 6 3 2 1]\n"
          ]
        }
      ],
      "source": [
        "arr=np.array([1,2,3,6,4,5])\n",
        "reverse_arr_1=arr[::-1]\n",
        "reverse_arr_2=np.flip(arr)\n",
        "print(arr)\n",
        "print(reverse_arr_1)\n",
        "print(reverse_arr_2)"
      ]
    },
    {
      "cell_type": "markdown",
      "source": [
        "Flatten the NumPy arr: array1 = np.array([[1, 2, 3], [2, 4, 5], [1, 2, 3]]) using any two\n",
        "NumPy in-built methods"
      ],
      "metadata": {
        "id": "1DlTV3epWiJu"
      }
    },
    {
      "cell_type": "code",
      "source": [
        "array1 = np.array([[1, 2, 3], [2, 4, 5], [1, 2, 3]])\n",
        "#using flatten\n",
        "flattened_array_1=array1.flatten()\n",
        "#using ravel\n",
        "flattened_array_2=array1.ravel()\n",
        "\n",
        "print(array1)\n",
        "print(flattened_array_1)\n",
        "print(flattened_array_2)"
      ],
      "metadata": {
        "colab": {
          "base_uri": "https://localhost:8080/"
        },
        "id": "9w5RkyviWlGs",
        "outputId": "7d94cd1c-765a-4acc-ef8a-7035cfecc9f5"
      },
      "execution_count": null,
      "outputs": [
        {
          "output_type": "stream",
          "name": "stdout",
          "text": [
            "[[1 2 3]\n",
            " [2 4 5]\n",
            " [1 2 3]]\n",
            "[1 2 3 2 4 5 1 2 3]\n",
            "[1 2 3 2 4 5 1 2 3]\n"
          ]
        }
      ]
    },
    {
      "cell_type": "markdown",
      "source": [
        "Compare the following numpy arrays:\n",
        "arr1 = np.array([[1, 2], [3, 4]])\n",
        "arr2 = np.array([[1, 2], [3, 4]])"
      ],
      "metadata": {
        "id": "thNGf5lIXnkU"
      }
    },
    {
      "cell_type": "code",
      "source": [
        "arr1 = np.array([[1, 2], [3, 4]])\n",
        "arr2 = np.array([[1, 2], [3, 4]])\n",
        "comp=arr1==arr2\n",
        "print(comp)\n",
        "print(\"overall\")\n",
        "print(comp.all())\n",
        "#method 2\n",
        "print(\"Method 2:\")\n",
        "if np.array_equal(arr1,arr2):\n",
        "  print(\"Equal\")\n",
        "else:\n",
        "   print(\"Not Equal\")"
      ],
      "metadata": {
        "colab": {
          "base_uri": "https://localhost:8080/"
        },
        "id": "GFoHvDyWYqoh",
        "outputId": "f14a969b-fd02-4dd3-8a95-30fb66993495"
      },
      "execution_count": null,
      "outputs": [
        {
          "output_type": "stream",
          "name": "stdout",
          "text": [
            "[[ True  True]\n",
            " [ True  True]]\n",
            "overall\n",
            "True\n",
            "Method 2:\n",
            "Equal\n"
          ]
        }
      ]
    },
    {
      "cell_type": "markdown",
      "source": [
        "Find the most frequent value and their indice(s) in the following arrays:\n",
        "\n",
        "i. x = np.array([1,2,3,4,5,1,2,1,1,1])\n",
        "\n",
        "ii. y = np.array([1, 1, 1, 2, 3, 4, 2, 4, 3, 3, ])"
      ],
      "metadata": {
        "id": "U95EdntnZuA6"
      }
    },
    {
      "cell_type": "code",
      "source": [
        "x = np.array([1,2,3,4,5,1,2,1,1,1])\n",
        "freq_val=np.bincount(x).argmax()\n",
        "print(f\"Most frequent element: {freq_val}\")\n",
        "print(\"Its indices are:\")\n",
        "for i in range(len(x)):\n",
        "  if x[i]==freq_val:\n",
        "    print(i)"
      ],
      "metadata": {
        "colab": {
          "base_uri": "https://localhost:8080/"
        },
        "id": "TsL2ctUaYtpJ",
        "outputId": "7d85e994-a7a2-45a8-bb4f-4e8abccbd3f0"
      },
      "execution_count": null,
      "outputs": [
        {
          "output_type": "stream",
          "name": "stdout",
          "text": [
            "Most frequent element: 1\n",
            "Its indices are:\n",
            "0\n",
            "5\n",
            "7\n",
            "8\n",
            "9\n"
          ]
        }
      ]
    },
    {
      "cell_type": "code",
      "source": [
        "y = np.array([1, 1, 1, 2, 3, 4, 2, 4, 3, 3, ])\n",
        "freq_val=np.bincount(y).argmax()\n",
        "print(f\"Most frequent element: {freq_val}\")\n",
        "print(\"Its indices are:\")\n",
        "for i in range(len(y)):\n",
        "  if y[i]==freq_val:\n",
        "    print(i)"
      ],
      "metadata": {
        "colab": {
          "base_uri": "https://localhost:8080/"
        },
        "id": "yMV49YAQaMZC",
        "outputId": "33cfa488-46a3-40f0-c483-b447bfac5e06"
      },
      "execution_count": null,
      "outputs": [
        {
          "output_type": "stream",
          "name": "stdout",
          "text": [
            "Most frequent element: 1\n",
            "Its indices are:\n",
            "0\n",
            "1\n",
            "2\n"
          ]
        }
      ]
    },
    {
      "cell_type": "markdown",
      "source": [
        "For the array gfg = np.matrix('[4, 1, 9; 12, 3, 1; 4, 5, 6]'), find\n",
        "\n",
        "i. Sum of all elements\n",
        "\n",
        "ii. Sum of all elements row-wise\n",
        "\n",
        "iii. Sum of all elements column-wise"
      ],
      "metadata": {
        "id": "EOI10JvUdRki"
      }
    },
    {
      "cell_type": "code",
      "source": [
        "gfg = np.matrix('[4, 1, 9; 12, 3, 1; 4, 5, 6]')\n",
        "sum_all=gfg.sum()\n",
        "print(\"sum of all elements \",sum_all)"
      ],
      "metadata": {
        "colab": {
          "base_uri": "https://localhost:8080/"
        },
        "id": "ACIe8aIudMZv",
        "outputId": "485e9535-02ea-4a2d-c9dc-980df3e05764"
      },
      "execution_count": null,
      "outputs": [
        {
          "output_type": "stream",
          "name": "stdout",
          "text": [
            "sum of all elements  45\n"
          ]
        }
      ]
    },
    {
      "cell_type": "code",
      "source": [
        "sum_row=gfg.sum(axis=1)\n",
        "print(sum_row)"
      ],
      "metadata": {
        "colab": {
          "base_uri": "https://localhost:8080/"
        },
        "id": "q8qsn6NQd0GP",
        "outputId": "4d54d617-2dbe-4c0f-ba77-945d2b7e6985"
      },
      "execution_count": null,
      "outputs": [
        {
          "output_type": "stream",
          "name": "stdout",
          "text": [
            "[[14]\n",
            " [16]\n",
            " [15]]\n"
          ]
        }
      ]
    },
    {
      "cell_type": "code",
      "source": [
        "sum_col=gfg.sum(axis=0)\n",
        "print(sum_col)"
      ],
      "metadata": {
        "colab": {
          "base_uri": "https://localhost:8080/"
        },
        "id": "cIgBtGLTeKiz",
        "outputId": "6ef8e1b2-a9f2-4f63-d654-84b1530a2f32"
      },
      "execution_count": null,
      "outputs": [
        {
          "output_type": "stream",
          "name": "stdout",
          "text": [
            "[[20  9 16]]\n"
          ]
        }
      ]
    },
    {
      "cell_type": "markdown",
      "source": [
        "For the matrix: n_array = np.array([[55, 25, 15],[30, 44, 2],[11, 45, 77]]), find\n",
        "\n",
        "i. Sum of diagonal elements\n",
        "\n",
        "ii. Eigen values of matrix\n",
        "\n",
        "iii. Eigen vectors of matrix\n",
        "\n",
        "iv. Inverse of matrix\n",
        "\n",
        "v. Determinant of matrix"
      ],
      "metadata": {
        "id": "ArLUhg1JeTYq"
      }
    },
    {
      "cell_type": "code",
      "source": [
        "n_array = np.array([[55, 25, 15],[30, 44, 2],[11, 45, 77]])\n",
        "sum_diagnol=np.trace(n_array)\n",
        "print(\"Sum of diagnol elements(trace): \",sum_diagnol)"
      ],
      "metadata": {
        "colab": {
          "base_uri": "https://localhost:8080/"
        },
        "id": "h0Ph4R35eZe9",
        "outputId": "e0219791-3385-4d15-f172-e133782a291b"
      },
      "execution_count": null,
      "outputs": [
        {
          "output_type": "stream",
          "name": "stdout",
          "text": [
            "Sum of diagnol elements(trace):  176\n"
          ]
        }
      ]
    },
    {
      "cell_type": "code",
      "source": [
        "eigenvalue,eigenvector=np.linalg.eig(n_array)\n",
        "print(\"Eigen values: \",eigenvalue)\n",
        "print(\"Eigen vectors: \",eigenvector)"
      ],
      "metadata": {
        "colab": {
          "base_uri": "https://localhost:8080/"
        },
        "id": "VjI_wePvexSz",
        "outputId": "96a5beee-c5a4-4561-a4ef-b2a04785d12a"
      },
      "execution_count": null,
      "outputs": [
        {
          "output_type": "stream",
          "name": "stdout",
          "text": [
            "Eigen values:  [98.16835147 28.097044   49.73460452]\n",
            "Eigen vectors:  [[ 0.4574917   0.34637121 -0.15017693]\n",
            " [ 0.28447814 -0.72784061 -0.4852124 ]\n",
            " [ 0.84248058  0.59184038  0.8614034 ]]\n"
          ]
        }
      ]
    },
    {
      "cell_type": "code",
      "source": [
        "inverse_mat=np.linalg.inv(n_array)\n",
        "print(inverse_mat)"
      ],
      "metadata": {
        "colab": {
          "base_uri": "https://localhost:8080/"
        },
        "id": "QFxdunyzfxNF",
        "outputId": "b23053b4-4d42-4349-b48e-f84206bb15af"
      },
      "execution_count": null,
      "outputs": [
        {
          "output_type": "stream",
          "name": "stdout",
          "text": [
            "[[ 0.02404141 -0.00911212 -0.00444671]\n",
            " [-0.01667882  0.02966905  0.0024785 ]\n",
            " [ 0.00631287 -0.01603732  0.01217379]]\n"
          ]
        }
      ]
    },
    {
      "cell_type": "code",
      "source": [
        "determinant=np.linalg.det(n_array)\n",
        "print(\"Determinant of matrix: \",determinant)"
      ],
      "metadata": {
        "colab": {
          "base_uri": "https://localhost:8080/"
        },
        "id": "Jc1ilQYBf-qi",
        "outputId": "d494e05e-b6b1-45bd-8dff-b45ef47e8789"
      },
      "execution_count": null,
      "outputs": [
        {
          "output_type": "stream",
          "name": "stdout",
          "text": [
            "Determinant of matrix:  137180.0000000001\n"
          ]
        }
      ]
    },
    {
      "cell_type": "markdown",
      "source": [
        "Multiply the following matrices and also find covariance between matrices using NumPy:\n",
        "\n",
        "i. p = [[1, 2], [2, 3]]\n",
        "\n",
        "q = [[4, 5], [6, 7]]\n",
        "\n",
        "\n",
        "ii. p = [[1, 2], [2, 3], [4, 5]]\n",
        "\n",
        "q = [[4, 5, 1], [6, 7, 2]]"
      ],
      "metadata": {
        "id": "Tv0ksoBcgoC6"
      }
    },
    {
      "cell_type": "code",
      "source": [
        "p=np.array([[1,2],[2,3]])\n",
        "q=np.array([[4,5],[6,7]])\n",
        "pdt=np.dot(p,q)\n",
        "print(\"Result of multiplication: \")\n",
        "print(pdt)\n",
        "covariance=np.cov(p.flatten(),q.flatten())\n",
        "print(\"Covariance of the matrix:\")\n",
        "print(covariance)"
      ],
      "metadata": {
        "id": "j0MIJNwHhJKg",
        "colab": {
          "base_uri": "https://localhost:8080/"
        },
        "outputId": "b069e6c3-378d-4638-df8c-e438be5d56da"
      },
      "execution_count": 4,
      "outputs": [
        {
          "output_type": "stream",
          "name": "stdout",
          "text": [
            "Result of multiplication: \n",
            "[[16 19]\n",
            " [26 31]]\n",
            "Covariance of the matrix:\n",
            "[[0.66666667 1.        ]\n",
            " [1.         1.66666667]]\n"
          ]
        }
      ]
    },
    {
      "cell_type": "code",
      "source": [
        "p=np.array([[1,2],[2,3],[4,5]])\n",
        "q=np.array([[4,5,1],[6,7,2]])\n",
        "pdt=np.dot(p,q)\n",
        "print(\"Result of multiplication: \")\n",
        "print(pdt)\n",
        "covariance=np.cov(p.flatten(),q.flatten())\n",
        "print(\"Covariance of the matrix: \")\n",
        "print(covariance)"
      ],
      "metadata": {
        "colab": {
          "base_uri": "https://localhost:8080/"
        },
        "id": "s-j20FcOo94J",
        "outputId": "cb54431a-90c3-4729-aad5-a94ff3e5536e"
      },
      "execution_count": 6,
      "outputs": [
        {
          "output_type": "stream",
          "name": "stdout",
          "text": [
            "Result of multiplication: \n",
            "[[16 19  5]\n",
            " [26 31  8]\n",
            " [46 55 14]]\n",
            "Covariance of the matrix: \n",
            "[[2.16666667 0.23333333]\n",
            " [0.23333333 5.36666667]]\n"
          ]
        }
      ]
    },
    {
      "cell_type": "markdown",
      "source": [
        "(a) For the array: array = np.array([[1, -2, 3],[-4, 5, -6]])\n",
        "\n",
        "i. Find element-wise absolute value\n",
        "\n",
        "ii. Find the 25th, 50th, and 75th percentile of flattened array, for each column, for each\n",
        "row.\n",
        "\n",
        "iii. Mean, Median and Standard Deviation of flattened array, of each column, and\n",
        "each row"
      ],
      "metadata": {
        "id": "Df7mSw2UpjkY"
      }
    },
    {
      "cell_type": "code",
      "source": [
        "array = np.array([[1, -2, 3],[-4, 5, -6]])\n",
        "flattened_array = array.flatten()"
      ],
      "metadata": {
        "id": "OPaiqpkopvo0"
      },
      "execution_count": 8,
      "outputs": []
    },
    {
      "cell_type": "code",
      "source": [
        "absolute = np.abs(array)\n",
        "print(absolute)"
      ],
      "metadata": {
        "colab": {
          "base_uri": "https://localhost:8080/"
        },
        "id": "ekj7SXe-q7GB",
        "outputId": "f2727ae4-48be-4610-d123-17b1af2a416c"
      },
      "execution_count": 9,
      "outputs": [
        {
          "output_type": "stream",
          "name": "stdout",
          "text": [
            "[[1 2 3]\n",
            " [4 5 6]]\n"
          ]
        }
      ]
    },
    {
      "cell_type": "code",
      "source": [
        "mean_array = np.mean(flattened_array)\n",
        "median_array = np.median(flattened_array)\n",
        "std_dev_array = np.std(flattened_array)\n",
        "\n",
        "mean_col = np.mean(array, axis=0)\n",
        "median_col = np.median(array, axis=0)\n",
        "std_dev_col = np.std(array, axis=0)\n",
        "\n",
        "mean_row = np.mean(array, axis=1)\n",
        "median_row = np.median(array, axis=1)\n",
        "std_dev_row = np.std(array, axis=1)\n",
        "\n",
        "\n",
        "print(\"\\niii. Mean, Median, and Standard Deviation:\")\n",
        "print(\"Overall mean, median, and standard deviation:\")\n",
        "print(\"Mean:\", mean_array)\n",
        "print(\"Median:\", median_array)\n",
        "print(\"Standard Deviation:\", std_dev_array)\n",
        "\n",
        "print(\"\\nColumn-wise mean, median, and standard deviation:\")\n",
        "print(\"Mean for each column:\", mean_col)\n",
        "print(\"Median for each column:\", median_col)\n",
        "print(\"Standard Deviation for each column:\", std_dev_col)\n",
        "\n",
        "print(\"\\nRow-wise mean, median, and standard deviation:\")\n",
        "print(\"Mean for each row:\", mean_row)\n",
        "print(\"Median for each row:\", median_row)\n",
        "print(\"Standard Deviation for each row:\", std_dev_row)"
      ],
      "metadata": {
        "colab": {
          "base_uri": "https://localhost:8080/"
        },
        "id": "cZF09gGbsAel",
        "outputId": "52291b72-e8ca-4322-8e7f-e8bc77e7005d"
      },
      "execution_count": 14,
      "outputs": [
        {
          "output_type": "stream",
          "name": "stdout",
          "text": [
            "\n",
            "iii. Mean, Median, and Standard Deviation:\n",
            "Overall mean, median, and standard deviation:\n",
            "Mean: -0.5\n",
            "Median: -0.5\n",
            "Standard Deviation: 3.8622100754188224\n",
            "\n",
            "Column-wise mean, median, and standard deviation:\n",
            "Mean for each column: [-1.5  1.5 -1.5]\n",
            "Median for each column: [-1.5  1.5 -1.5]\n",
            "Standard Deviation for each column: [2.5 3.5 4.5]\n",
            "\n",
            "Row-wise mean, median, and standard deviation:\n",
            "Mean for each row: [ 0.66666667 -1.66666667]\n",
            "Median for each row: [ 1. -4.]\n",
            "Standard Deviation for each row: [2.05480467 4.78423336]\n"
          ]
        }
      ]
    },
    {
      "cell_type": "code",
      "source": [
        "percentile = np.percentile(flattened_array, q=[25,50,75])\n",
        "percentile_row = np.percentile(array, q=[25,50,75],axis=1)\n",
        "percentile_col = np.percentile(array, q=[25,50,75],axis=0)\n",
        "\n",
        "print(\"\\nii. Percentiles:\")\n",
        "print(\"Percentile for flattened array:\")\n",
        "print(percentile)\n",
        "print(\"Percentiles for each column:\")\n",
        "print(percentile_col)\n",
        "print(\"Percentiles for each row:\")\n",
        "print(percentile_row)"
      ],
      "metadata": {
        "colab": {
          "base_uri": "https://localhost:8080/"
        },
        "id": "UERUK_SFq_HI",
        "outputId": "11874dce-d282-482b-b48f-abff749a2a08"
      },
      "execution_count": 13,
      "outputs": [
        {
          "output_type": "stream",
          "name": "stdout",
          "text": [
            "\n",
            "ii. Percentiles:\n",
            "Percentile for flattened array:\n",
            "[-3.5 -0.5  2.5]\n",
            "Percentiles for each column:\n",
            "[[-2.75 -0.25 -3.75]\n",
            " [-1.5   1.5  -1.5 ]\n",
            " [-0.25  3.25  0.75]]\n",
            "Percentiles for each row:\n",
            "[[-0.5 -5. ]\n",
            " [ 1.  -4. ]\n",
            " [ 2.   0.5]]\n"
          ]
        }
      ]
    },
    {
      "cell_type": "markdown",
      "source": [
        "b) For the array: a = np.array([-1.8, -1.6, -0.5, 0.5,1.6, 1.8, 3.0]). Find floor, ceiling\n",
        "and truncated value, rounded values"
      ],
      "metadata": {
        "id": "nxDjdVHXsV_a"
      }
    },
    {
      "cell_type": "code",
      "source": [
        "a = np.array([-1.8, -1.6, -0.5, 0.5,1.6, 1.8, 3.0])"
      ],
      "metadata": {
        "id": "xklATL3osb-v"
      },
      "execution_count": 15,
      "outputs": []
    },
    {
      "cell_type": "code",
      "source": [
        "ceil=np.ceil(a)\n",
        "floor=np.floor(a)\n",
        "trunc=np.trunc(a)\n",
        "round=np.round(a)\n",
        "\n",
        "print(\"Floor values: \")\n",
        "print(floor)\n",
        "\n",
        "print(\"Ceiling values: \")\n",
        "print(ceil)\n",
        "\n",
        "print(\"Truncated values: \")\n",
        "print(trunc)\n",
        "\n",
        "print(\"Rounded values: \")\n",
        "print(round)"
      ],
      "metadata": {
        "colab": {
          "base_uri": "https://localhost:8080/"
        },
        "id": "iqOovm_9sfC7",
        "outputId": "72340ae0-243d-4aa7-c2c6-d385a615e7f0"
      },
      "execution_count": 17,
      "outputs": [
        {
          "output_type": "stream",
          "name": "stdout",
          "text": [
            "Floor values: \n",
            "[-2. -2. -1.  0.  1.  1.  3.]\n",
            "Ceiling values: \n",
            "[-1. -1. -0.  1.  2.  2.  3.]\n",
            "Truncated values: \n",
            "[-1. -1. -0.  0.  1.  1.  3.]\n",
            "Rounded values: \n",
            "[-2. -2. -0.  0.  2.  2.  3.]\n"
          ]
        }
      ]
    },
    {
      "cell_type": "markdown",
      "source": [
        "For the array: array = np.array([10, 52, 62, 16, 16, 54, 453]), find\n",
        "\n",
        "i. Sorted array\n",
        "\n",
        "ii. Indices of sorted array\n",
        "\n",
        "iii. 4 smallest elements\n",
        "\n",
        "iv. 5 largest elements"
      ],
      "metadata": {
        "id": "ts6rF_zitVFH"
      }
    },
    {
      "cell_type": "code",
      "source": [
        "array = np.array([10, 52, 62, 16, 16, 54, 453])"
      ],
      "metadata": {
        "id": "bxurjGZltcm5"
      },
      "execution_count": 18,
      "outputs": []
    },
    {
      "cell_type": "code",
      "source": [
        "sorted_a=np.sort(array)\n",
        "print(\"Sorted Array: \",sorted_a)"
      ],
      "metadata": {
        "colab": {
          "base_uri": "https://localhost:8080/"
        },
        "id": "3Dn48SpqtgYQ",
        "outputId": "4fad3b09-74ac-4c1f-c4fc-17622e46e094"
      },
      "execution_count": 19,
      "outputs": [
        {
          "output_type": "stream",
          "name": "stdout",
          "text": [
            "Sorted Array:  [ 10  16  16  52  54  62 453]\n"
          ]
        }
      ]
    },
    {
      "cell_type": "code",
      "source": [
        "sorted_indices=np.argsort(array)\n",
        "print(\"Sorted array's indices: \",sorted_indices)"
      ],
      "metadata": {
        "colab": {
          "base_uri": "https://localhost:8080/"
        },
        "id": "0SckMGV7tuNy",
        "outputId": "3cb85b93-b51d-48f4-f4d8-392f15b5c7b6"
      },
      "execution_count": 21,
      "outputs": [
        {
          "output_type": "stream",
          "name": "stdout",
          "text": [
            "Sorted array's indices:  [0 3 4 1 5 2 6]\n"
          ]
        }
      ]
    },
    {
      "cell_type": "code",
      "source": [
        "arr=[]\n",
        "for i in range(0,4):\n",
        "  arr.append(sorted_a[i])\n",
        "\n",
        "for i in range(len(arr)):\n",
        "  print(arr[i])"
      ],
      "metadata": {
        "colab": {
          "base_uri": "https://localhost:8080/"
        },
        "id": "EmcAytrWuhk2",
        "outputId": "f12050fe-05f9-4784-9634-4b187d647121"
      },
      "execution_count": 29,
      "outputs": [
        {
          "output_type": "stream",
          "name": "stdout",
          "text": [
            "10\n",
            "16\n",
            "16\n",
            "52\n"
          ]
        }
      ]
    },
    {
      "cell_type": "code",
      "source": [
        "ar=[]\n",
        "\n",
        "largest_indices = np.argpartition(array, -5)[-5:]\n",
        "\n",
        "for i in largest_indices:\n",
        "    ar.append(array[i])\n",
        "\n",
        "\n",
        "for i in range(len(ar)):\n",
        "  print(ar[i])"
      ],
      "metadata": {
        "colab": {
          "base_uri": "https://localhost:8080/"
        },
        "id": "5wpYs6T1unYt",
        "outputId": "44221246-3de0-4885-a112-71e7d4fc9b17"
      },
      "execution_count": 33,
      "outputs": [
        {
          "output_type": "stream",
          "name": "stdout",
          "text": [
            "16\n",
            "52\n",
            "62\n",
            "54\n",
            "453\n"
          ]
        }
      ]
    },
    {
      "cell_type": "markdown",
      "source": [
        "(b) For the array: array = np.array([1.0, 1.2, 2.2, 2.0, 3.0, 2.0]), find\n",
        "\n",
        "i. Integer elements only\n",
        "\n",
        "ii. Float elements only"
      ],
      "metadata": {
        "id": "DQgDu_vMw9v3"
      }
    },
    {
      "cell_type": "code",
      "source": [
        "array = np.array([1.0, 1.2, 2.2, 2.0, 3.0, 2.0])"
      ],
      "metadata": {
        "id": "F-JbZbvjxBDg"
      },
      "execution_count": 3,
      "outputs": []
    },
    {
      "cell_type": "code",
      "source": [
        "int_arr = array[array.astype(int) == array]\n",
        "float_arr = array[array.astype(int) != array]\n",
        "\n",
        "print(\"INTEGER ARRAY:\")\n",
        "for x in int_arr:\n",
        "  print(x)\n",
        "\n",
        "print(\"FLOAT ARRAY:\")\n",
        "for x in float_arr:\n",
        "  print(x)"
      ],
      "metadata": {
        "colab": {
          "base_uri": "https://localhost:8080/"
        },
        "id": "vG1c7_eGxGFc",
        "outputId": "61f95455-fafc-4116-ddbd-0b412da83039"
      },
      "execution_count": 4,
      "outputs": [
        {
          "output_type": "stream",
          "name": "stdout",
          "text": [
            "INTEGER ARRAY:\n",
            "1.0\n",
            "2.0\n",
            "3.0\n",
            "2.0\n",
            "FLOAT ARRAY:\n",
            "1.2\n",
            "2.2\n"
          ]
        }
      ]
    },
    {
      "cell_type": "markdown",
      "source": [
        "Write a function named img_to_array(path) that reads an image from a specified path and\n",
        "save it as text file on local machine? (Note: use separate cases for RGB and Grey Scale\n",
        "images)\n",
        "\n",
        "Load the saved file into jupyter notebook?"
      ],
      "metadata": {
        "id": "0yCsCKpYHxEe"
      }
    },
    {
      "cell_type": "code",
      "source": [
        "from PIL import Image\n",
        "import numpy as np\n",
        "\n",
        "def img_to_array(path, output_file):\n",
        "    # Read the image\n",
        "    img = Image.open(path)\n",
        "\n",
        "    # Convert the image to a NumPy array\n",
        "    img_array = np.array(img)\n",
        "\n",
        "    # Flatten the array for RGB images\n",
        "    if len(img_array.shape) == 3:\n",
        "        img_array = img_array.reshape(-1, img_array.shape[-1])\n",
        "\n",
        "    # Save the array to a text file\n",
        "    np.savetxt(output_file, img_array, fmt='%d')\n",
        "\n",
        "# Example usage for a RGB image\n",
        "img_to_array('/content/download.jpg', 'output_rgb.txt')\n",
        "\n",
        "# Example usage for a grayscale image\n",
        "img_to_array('/content/greyscale.jpg', 'output_grayscale.txt')\n"
      ],
      "metadata": {
        "id": "_VC586vTHhqX"
      },
      "execution_count": 7,
      "outputs": []
    },
    {
      "cell_type": "code",
      "source": [
        "import numpy as np\n",
        "\n",
        "# Load the saved file into a NumPy array\n",
        "loaded_array_rgb = np.loadtxt('output_rgb.txt')\n",
        "loaded_array_grayscale = np.loadtxt('output_grayscale.txt')\n",
        "\n",
        "# Display the loaded arrays\n",
        "print(\"Loaded RGB Array:\")\n",
        "print(loaded_array_rgb)\n",
        "\n",
        "print(\"\\nLoaded Grayscale Array:\")\n",
        "print(loaded_array_grayscale)\n"
      ],
      "metadata": {
        "colab": {
          "base_uri": "https://localhost:8080/"
        },
        "id": "BddtUp3RPPmF",
        "outputId": "e4b6d67d-a991-43e2-d415-228fac4565c8"
      },
      "execution_count": 8,
      "outputs": [
        {
          "output_type": "stream",
          "name": "stdout",
          "text": [
            "Loaded RGB Array:\n",
            "[[60. 88. 89.]\n",
            " [59. 87. 88.]\n",
            " [57. 85. 86.]\n",
            " ...\n",
            " [ 0. 31. 38.]\n",
            " [ 0. 29. 36.]\n",
            " [ 0. 30. 38.]]\n",
            "\n",
            "Loaded Grayscale Array:\n",
            "[[172. 172. 172.]\n",
            " [166. 166. 166.]\n",
            " [153. 153. 153.]\n",
            " ...\n",
            " [188. 188. 188.]\n",
            " [188. 188. 188.]\n",
            " [189. 189. 189.]]\n"
          ]
        }
      ]
    }
  ]
}