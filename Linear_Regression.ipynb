{
  "nbformat": 4,
  "nbformat_minor": 0,
  "metadata": {
    "colab": {
      "provenance": [],
      "authorship_tag": "ABX9TyN5rN6ZfsqDCwE2gZXQPaIw",
      "include_colab_link": true
    },
    "kernelspec": {
      "name": "python3",
      "display_name": "Python 3"
    },
    "language_info": {
      "name": "python"
    }
  },
  "cells": [
    {
      "cell_type": "markdown",
      "metadata": {
        "id": "view-in-github",
        "colab_type": "text"
      },
      "source": [
        "<a href=\"https://colab.research.google.com/github/Aarushi900/Data_Mining/blob/main/Linear_Regression.ipynb\" target=\"_parent\"><img src=\"https://colab.research.google.com/assets/colab-badge.svg\" alt=\"Open In Colab\"/></a>"
      ]
    },
    {
      "cell_type": "markdown",
      "source": [
        "K-Fold Cross Validation for Multiple Linear Regression (Least Square Error Fit)\n",
        "Download the dataset regarding USA House Price Prediction from the following link:\n",
        "\n",
        "https://drive.google.com/file/d/1O_NwpJT-8xGfU_-3llUl2sgPu0xllOrX/view?usp=sharing\n",
        "\n",
        "Load the dataset and Implement 5- fold cross validation for multiple linear regression\n",
        "\n",
        "(using least square error fit).\n",
        "Steps:\n",
        "\n",
        "a) Divide the dataset into input features (all columns except price) and output variable\n",
        "(price)\n",
        "\n",
        "b) Scale the values of input features.\n",
        "\n",
        "c) Divide input and output features into five folds.\n",
        "\n",
        "d) Run five iterations, in each iteration consider one-fold as test set and remaining\n",
        "four sets as training set. Find the beta (��) matrix, predicted values, and R2_score\n",
        "for each iteration using least square error fit.\n",
        "\n",
        "e) Use the best value of (��) matrix (for which R2_score is maximum), to train the regressor for 70% of data and test the performance for remaining 30% data."
      ],
      "metadata": {
        "id": "tQQrYXY5iIgC"
      }
    },
    {
      "cell_type": "code",
      "execution_count": 2,
      "metadata": {
        "id": "2UWEwV1gh29_"
      },
      "outputs": [],
      "source": [
        "import pandas as pd"
      ]
    },
    {
      "cell_type": "code",
      "source": [
        "data= pd.read_csv('/content/USA_Housing.csv')"
      ],
      "metadata": {
        "id": "ltk22tiBibdM"
      },
      "execution_count": 3,
      "outputs": []
    },
    {
      "cell_type": "code",
      "source": [
        "print(data.head())"
      ],
      "metadata": {
        "colab": {
          "base_uri": "https://localhost:8080/"
        },
        "id": "s6vOjX69lLyE",
        "outputId": "b602df40-5276-41b8-f8e7-6a211ebf0761"
      },
      "execution_count": 4,
      "outputs": [
        {
          "output_type": "stream",
          "name": "stdout",
          "text": [
            "   Avg. Area Income  Avg. Area House Age  Avg. Area Number of Rooms  \\\n",
            "0       79545.45857             5.682861                   7.009188   \n",
            "1       79248.64245             6.002900                   6.730821   \n",
            "2       61287.06718             5.865890                   8.512727   \n",
            "3       63345.24005             7.188236                   5.586729   \n",
            "4       59982.19723             5.040555                   7.839388   \n",
            "\n",
            "   Avg. Area Number of Bedrooms  Area Population         Price  \n",
            "0                          4.09      23086.80050  1.059034e+06  \n",
            "1                          3.09      40173.07217  1.505891e+06  \n",
            "2                          5.13      36882.15940  1.058988e+06  \n",
            "3                          3.26      34310.24283  1.260617e+06  \n",
            "4                          4.23      26354.10947  6.309435e+05  \n"
          ]
        }
      ]
    },
    {
      "cell_type": "code",
      "source": [
        "x=data.drop('Price',axis=1)\n",
        "y = data['Price']"
      ],
      "metadata": {
        "id": "B4PdSfO2kkae"
      },
      "execution_count": 5,
      "outputs": []
    },
    {
      "cell_type": "code",
      "source": [
        "print(x.head())\n",
        "print(y.head())"
      ],
      "metadata": {
        "colab": {
          "base_uri": "https://localhost:8080/"
        },
        "id": "gACjprmjk5Rw",
        "outputId": "7fa61616-ef21-4213-c57c-9860fda56f9b"
      },
      "execution_count": 6,
      "outputs": [
        {
          "output_type": "stream",
          "name": "stdout",
          "text": [
            "   Avg. Area Income  Avg. Area House Age  Avg. Area Number of Rooms  \\\n",
            "0       79545.45857             5.682861                   7.009188   \n",
            "1       79248.64245             6.002900                   6.730821   \n",
            "2       61287.06718             5.865890                   8.512727   \n",
            "3       63345.24005             7.188236                   5.586729   \n",
            "4       59982.19723             5.040555                   7.839388   \n",
            "\n",
            "   Avg. Area Number of Bedrooms  Area Population  \n",
            "0                          4.09      23086.80050  \n",
            "1                          3.09      40173.07217  \n",
            "2                          5.13      36882.15940  \n",
            "3                          3.26      34310.24283  \n",
            "4                          4.23      26354.10947  \n",
            "0    1.059034e+06\n",
            "1    1.505891e+06\n",
            "2    1.058988e+06\n",
            "3    1.260617e+06\n",
            "4    6.309435e+05\n",
            "Name: Price, dtype: float64\n"
          ]
        }
      ]
    },
    {
      "cell_type": "code",
      "source": [
        "data.info()"
      ],
      "metadata": {
        "id": "m-FpWvJblf1q",
        "colab": {
          "base_uri": "https://localhost:8080/"
        },
        "outputId": "7f03ca7f-6f9f-481a-e8ce-1d23ef8b8222"
      },
      "execution_count": 7,
      "outputs": [
        {
          "output_type": "stream",
          "name": "stdout",
          "text": [
            "<class 'pandas.core.frame.DataFrame'>\n",
            "RangeIndex: 5000 entries, 0 to 4999\n",
            "Data columns (total 6 columns):\n",
            " #   Column                        Non-Null Count  Dtype  \n",
            "---  ------                        --------------  -----  \n",
            " 0   Avg. Area Income              5000 non-null   float64\n",
            " 1   Avg. Area House Age           5000 non-null   float64\n",
            " 2   Avg. Area Number of Rooms     5000 non-null   float64\n",
            " 3   Avg. Area Number of Bedrooms  5000 non-null   float64\n",
            " 4   Area Population               5000 non-null   float64\n",
            " 5   Price                         5000 non-null   float64\n",
            "dtypes: float64(6)\n",
            "memory usage: 234.5 KB\n"
          ]
        }
      ]
    },
    {
      "cell_type": "code",
      "source": [
        "max_values = x.max()\n",
        "x = x.divide(max_values) * 10"
      ],
      "metadata": {
        "id": "QzR56z9zmf0M"
      },
      "execution_count": 8,
      "outputs": []
    },
    {
      "cell_type": "code",
      "source": [
        "print(x.head())"
      ],
      "metadata": {
        "colab": {
          "base_uri": "https://localhost:8080/"
        },
        "id": "F_Eqx5pRm1JV",
        "outputId": "0204a4bb-9dc6-4d73-a284-2dc575ed7524"
      },
      "execution_count": 9,
      "outputs": [
        {
          "output_type": "stream",
          "name": "stdout",
          "text": [
            "   Avg. Area Income  Avg. Area House Age  Avg. Area Number of Rooms  \\\n",
            "0          7.385717             5.969964                   6.514365   \n",
            "1          7.358157             6.306171                   6.255649   \n",
            "2          5.690443             6.162239                   7.911759   \n",
            "3          5.881542             7.551392                   5.192326   \n",
            "4          5.569287             5.295207                   7.285955   \n",
            "\n",
            "   Avg. Area Number of Bedrooms  Area Population  \n",
            "0                      6.292308         3.316035  \n",
            "1                      4.753846         5.770193  \n",
            "2                      7.892308         5.297508  \n",
            "3                      5.015385         4.928095  \n",
            "4                      6.507692         3.785329  \n"
          ]
        }
      ]
    },
    {
      "cell_type": "code",
      "source": [
        "import numpy as np\n",
        "\n",
        "indices = np.random.permutation(len(x))\n",
        "x_shuffled = x.iloc()[indices]\n",
        "y_shuffled = y[indices]\n",
        "\n",
        "# Split the data into five folds\n",
        "num_folds = 5\n",
        "fold_size = len(x) // num_folds\n",
        "\n",
        "input_folds = []\n",
        "output_folds = []\n",
        "\n",
        "for i in range(num_folds):\n",
        "    start_idx = i * fold_size\n",
        "    end_idx = (i + 1) * fold_size if i < num_folds - 1 else len(x)\n",
        "\n",
        "    x_fold = x_shuffled.iloc()[start_idx:end_idx]\n",
        "    y_fold = y_shuffled[start_idx:end_idx]\n",
        "\n",
        "    input_folds.append(x_fold)\n",
        "    output_folds.append(y_fold)\n",
        "\n",
        "# Display the folds\n",
        "for i in range(num_folds):\n",
        "    print(f\"Fold {i + 1}:\")\n",
        "    print(\"Input features:\")\n",
        "    print(input_folds[i])\n",
        "    print(\"Output features:\")\n",
        "    print(output_folds[i])\n",
        "    print()\n"
      ],
      "metadata": {
        "colab": {
          "base_uri": "https://localhost:8080/"
        },
        "id": "byAWZmsrnrlD",
        "outputId": "69c91893-f933-435b-d18a-addfb33bb06a"
      },
      "execution_count": 11,
      "outputs": [
        {
          "output_type": "stream",
          "name": "stdout",
          "text": [
            "Fold 1:\n",
            "Input features:\n",
            "      Avg. Area Income  Avg. Area House Age  Avg. Area Number of Rooms  \\\n",
            "665           7.131862             8.333140                   6.852404   \n",
            "2867          5.889209             5.425154                   8.114534   \n",
            "4103          6.911304             3.711598                   5.710487   \n",
            "2945          6.746005             7.926819                   6.693400   \n",
            "549           5.980227             6.630045                   5.486347   \n",
            "...                ...                  ...                        ...   \n",
            "3650          6.527194             5.986229                   6.100998   \n",
            "1178          7.523070             6.089853                   6.241048   \n",
            "3255          6.649265             4.136507                   7.666808   \n",
            "589           4.959858             6.654296                   7.829370   \n",
            "3112          8.237838             6.160743                   5.564734   \n",
            "\n",
            "      Avg. Area Number of Bedrooms  Area Population  \n",
            "665                       6.153846         3.988734  \n",
            "2867                      9.230769         4.551731  \n",
            "4103                      4.615385         7.403792  \n",
            "2945                      6.307692         3.393094  \n",
            "549                       4.707692         5.862810  \n",
            "...                            ...              ...  \n",
            "3650                      3.076923         4.761067  \n",
            "1178                      3.153846         3.711179  \n",
            "3255                      8.292308         5.303805  \n",
            "589                       6.169231         4.822166  \n",
            "3112                      6.246154         4.294159  \n",
            "\n",
            "[1000 rows x 5 columns]\n",
            "Output features:\n",
            "665     1610006.605\n",
            "2867    1307173.872\n",
            "4103    1329521.139\n",
            "2945    1612102.097\n",
            "549     1113570.852\n",
            "           ...     \n",
            "3650    1172619.597\n",
            "1178    1319478.287\n",
            "3255    1188255.081\n",
            "589     1250882.292\n",
            "3112    1547127.386\n",
            "Name: Price, Length: 1000, dtype: float64\n",
            "\n",
            "Fold 2:\n",
            "Input features:\n",
            "      Avg. Area Income  Avg. Area House Age  Avg. Area Number of Rooms  \\\n",
            "1381          7.592785             6.063619                   6.967252   \n",
            "4805          5.985967             6.338611                   7.070351   \n",
            "246           6.070736             5.669471                   7.108437   \n",
            "3231          6.597150             5.351137                   6.637883   \n",
            "2578          4.776634             7.186787                   6.954557   \n",
            "...                ...                  ...                        ...   \n",
            "736           8.148941             5.680146                   7.662591   \n",
            "4234          7.318239             6.660971                   8.060033   \n",
            "373           7.067036             6.700155                   7.190140   \n",
            "749           4.655889             6.430868                   7.107168   \n",
            "467           6.428006             6.799095                   4.686588   \n",
            "\n",
            "      Avg. Area Number of Bedrooms  Area Population  \n",
            "1381                      9.753846         4.319159  \n",
            "4805                      5.092308         4.200910  \n",
            "246                       9.353846         5.992822  \n",
            "3231                      5.307692         6.712225  \n",
            "2578                      7.938462         6.458627  \n",
            "...                            ...              ...  \n",
            "736                       9.861538         5.732456  \n",
            "4234                      4.630769         2.963342  \n",
            "373                       7.800000         3.803628  \n",
            "749                       4.984615         6.209747  \n",
            "467                       3.492308         6.186604  \n",
            "\n",
            "[1000 rows x 5 columns]\n",
            "Output features:\n",
            "1381    1500939.827\n",
            "4805    1057308.290\n",
            "246     1165253.033\n",
            "3231    1379456.031\n",
            "2578    1093873.291\n",
            "           ...     \n",
            "736     1739628.383\n",
            "4234    1398466.628\n",
            "373     1487849.876\n",
            "749     1353854.478\n",
            "467     1220276.551\n",
            "Name: Price, Length: 1000, dtype: float64\n",
            "\n",
            "Fold 3:\n",
            "Input features:\n",
            "      Avg. Area Income  Avg. Area House Age  Avg. Area Number of Rooms  \\\n",
            "927           7.530015             6.758883                   6.631373   \n",
            "1997          6.450025             5.133924                   6.827080   \n",
            "2538          7.693431             8.499116                   6.438157   \n",
            "4333          6.620868             5.604754                   6.978215   \n",
            "4584          6.577629             6.484766                   6.457162   \n",
            "...                ...                  ...                        ...   \n",
            "2336          4.590040             6.867637                   5.625232   \n",
            "4725          8.554018             6.479688                   6.082894   \n",
            "789           5.759698             5.499698                   6.583415   \n",
            "3801          6.415069             7.436152                   6.553818   \n",
            "2669          5.703343             4.352342                   6.026342   \n",
            "\n",
            "      Avg. Area Number of Bedrooms  Area Population  \n",
            "927                       6.661538         4.277426  \n",
            "1997                      6.307692         8.000441  \n",
            "2538                      6.784615         8.623825  \n",
            "4333                      5.261538         3.967033  \n",
            "4584                      4.830769         6.174436  \n",
            "...                            ...              ...  \n",
            "2336                      5.138462         6.239720  \n",
            "4725                      6.292308         5.726714  \n",
            "789                       6.753846         3.629199  \n",
            "3801                      8.338462         4.697936  \n",
            "2669                      5.107692         6.564236  \n",
            "\n",
            "[1000 rows x 5 columns]\n",
            "Output features:\n",
            "927     1.626942e+06\n",
            "1997    1.424994e+06\n",
            "2538    2.294648e+06\n",
            "4333    1.061518e+06\n",
            "4584    1.519928e+06\n",
            "            ...     \n",
            "2336    9.271638e+05\n",
            "4725    1.794212e+06\n",
            "789     8.008091e+05\n",
            "3801    1.339304e+06\n",
            "2669    8.919811e+05\n",
            "Name: Price, Length: 1000, dtype: float64\n",
            "\n",
            "Fold 4:\n",
            "Input features:\n",
            "      Avg. Area Income  Avg. Area House Age  Avg. Area Number of Rooms  \\\n",
            "1777          5.666147             9.426786                   7.347489   \n",
            "3162          5.985886             4.763627                   5.426834   \n",
            "587           4.820585             6.190191                   6.235191   \n",
            "1716          4.622478             6.829174                   8.052045   \n",
            "1394          6.799430             5.727843                   4.747875   \n",
            "...                ...                  ...                        ...   \n",
            "4438          4.829835             5.580648                   7.281808   \n",
            "4185          6.810073             5.576496                   7.323453   \n",
            "2436          5.155896             7.166507                   8.387674   \n",
            "4635          5.558093             8.505966                   5.819945   \n",
            "1022          4.902611             6.166333                   5.739562   \n",
            "\n",
            "      Avg. Area Number of Bedrooms  Area Population  \n",
            "1777                      9.692308         4.988496  \n",
            "3162                      3.123077         6.283383  \n",
            "587                       5.184615         3.552686  \n",
            "1716                      6.338462         5.251915  \n",
            "1394                      4.738462         5.858533  \n",
            "...                            ...              ...  \n",
            "4438                      6.261538         8.724668  \n",
            "4185                      9.907692         6.642384  \n",
            "2436                      6.230769         6.464685  \n",
            "4635                      3.261538         6.595525  \n",
            "1022                      4.892308         3.090709  \n",
            "\n",
            "[1000 rows x 5 columns]\n",
            "Output features:\n",
            "1777    1.468267e+06\n",
            "3162    9.098858e+05\n",
            "587     6.610434e+05\n",
            "1716    1.144507e+06\n",
            "1394    1.100094e+06\n",
            "            ...     \n",
            "4438    1.248690e+06\n",
            "4185    1.629574e+06\n",
            "2436    1.460341e+06\n",
            "4635    1.434324e+06\n",
            "1022    6.851231e+05\n",
            "Name: Price, Length: 1000, dtype: float64\n",
            "\n",
            "Fold 5:\n",
            "Input features:\n",
            "      Avg. Area Income  Avg. Area House Age  Avg. Area Number of Rooms  \\\n",
            "3237          5.821589             7.806610                   5.328296   \n",
            "4239          6.375128             5.253826                   5.932075   \n",
            "2991          7.543814             8.340089                   6.272999   \n",
            "2660          6.819861             6.269703                   5.489931   \n",
            "1304          7.668175             5.998812                   6.202896   \n",
            "...                ...                  ...                        ...   \n",
            "4875          5.448046             6.280304                   5.266704   \n",
            "3632          6.008593             5.845579                   5.270640   \n",
            "1074          6.036692             2.777897                   7.719909   \n",
            "2607          4.878409             5.132050                   6.715426   \n",
            "4317          7.454445             6.040427                   4.843990   \n",
            "\n",
            "      Avg. Area Number of Bedrooms  Area Population  \n",
            "3237                      5.215385         6.667384  \n",
            "4239                      3.200000         3.652797  \n",
            "2991                      6.538462         7.026906  \n",
            "2660                      3.230769         7.074202  \n",
            "1304                      5.323077         8.033733  \n",
            "...                            ...              ...  \n",
            "4875                      5.230769         8.082172  \n",
            "3632                      4.692308         1.922593  \n",
            "1074                      9.307692         2.284141  \n",
            "2607                      4.923077         5.926062  \n",
            "4317                      4.661538         6.985440  \n",
            "\n",
            "[1000 rows x 5 columns]\n",
            "Output features:\n",
            "3237    1.252733e+06\n",
            "4239    8.954410e+05\n",
            "2991    1.969257e+06\n",
            "2660    1.342815e+06\n",
            "1304    1.765988e+06\n",
            "            ...     \n",
            "4875    1.213852e+06\n",
            "3632    4.855337e+05\n",
            "1074    4.145712e+05\n",
            "2607    8.429859e+05\n",
            "4317    1.439029e+06\n",
            "Name: Price, Length: 1000, dtype: float64\n",
            "\n"
          ]
        }
      ]
    },
    {
      "cell_type": "code",
      "source": [
        "from sklearn.metrics import r2_score\n",
        "from sklearn.model_selection import train_test_split"
      ],
      "metadata": {
        "id": "ehnMwOn3Glmq"
      },
      "execution_count": 13,
      "outputs": []
    },
    {
      "cell_type": "code",
      "source": [
        "# Perform k-fold cross-validation\n",
        "best_r2_score = -np.inf\n",
        "best_beta_coefficients = None\n",
        "\n",
        "for i in range(num_folds):\n",
        "    print(f\"Fold {i + 1}:\")\n",
        "\n",
        "    # Prepare training and testing sets\n",
        "    training_set_x = [x_fold for j, x_fold in enumerate(input_folds) if j != i]\n",
        "    training_set_y = [y_fold for j, y_fold in enumerate(output_folds) if j != i]\n",
        "    testing_set_x = input_folds[i]\n",
        "    testing_set_y = output_folds[i]\n",
        "\n",
        "    # Concatenate the training data\n",
        "    training_set_x = pd.concat(training_set_x)\n",
        "    training_set_y = np.concatenate(training_set_y)\n",
        "\n",
        "    # Fit the linear regression model\n",
        "    X_train = np.c_[np.ones(training_set_x.shape[0]), training_set_x.to_numpy()]\n",
        "    beta_coefficients = np.linalg.inv(X_train.T.dot(X_train)).dot(X_train.T).dot(training_set_y)\n",
        "\n",
        "    # Add intercept to testing data\n",
        "    testing_set_x = np.c_[np.ones(testing_set_x.shape[0]), testing_set_x.to_numpy()]\n",
        "\n",
        "    # Predict on testing data\n",
        "    y_pred = testing_set_x.dot(beta_coefficients)\n",
        "\n",
        "    # Compute R2 score\n",
        "    r2 = r2_score(testing_set_y, y_pred)\n",
        "\n",
        "    # Print R2 score and beta matrix for this fold\n",
        "    print(\"R2 score:\", r2)\n",
        "    print(\"Beta matrix:\", beta_coefficients)\n",
        "    print()\n",
        "\n",
        "    # Save the best beta coefficients\n",
        "    if r2 > best_r2_score:\n",
        "        best_r2_score = r2\n",
        "        best_beta_coefficients = beta_coefficients\n",
        "\n",
        "# Train the regressor using the best beta coefficients on 70% of the data\n",
        "x_train, x_test, y_train, y_test = train_test_split(x, y, test_size=0.3, random_state=42)\n",
        "\n",
        "X_train = np.c_[np.ones(x_train.shape[0]), x_train.to_numpy()]\n",
        "best_beta_coefficients = np.linalg.inv(X_train.T.dot(X_train)).dot(X_train.T).dot(y_train)\n",
        "\n",
        "# Add intercept to testing data\n",
        "X_test = np.c_[np.ones(x_test.shape[0]), x_test.to_numpy()]\n",
        "\n",
        "# Predict on testing data\n",
        "y_pred = X_test.dot(best_beta_coefficients)\n",
        "\n",
        "# Compute R2 score for the test data\n",
        "r2_test = r2_score(y_test, y_pred)\n",
        "print(\"R2 score on test data:\", r2_test)\n",
        "print(\"Best beta coefficients:\", best_beta_coefficients)\n"
      ],
      "metadata": {
        "colab": {
          "base_uri": "https://localhost:8080/"
        },
        "id": "cZZwvnmsPYfB",
        "outputId": "ccb2500b-516d-4584-be13-6200b654c9cd"
      },
      "execution_count": 14,
      "outputs": [
        {
          "output_type": "stream",
          "name": "stdout",
          "text": [
            "Fold 1:\n",
            "R2 score: 0.9205112970899236\n",
            "Beta matrix: [-2.62940381e+06  2.31138040e+05  1.58801113e+05  1.28858242e+05\n",
            "  9.85371646e+02  1.06053833e+05]\n",
            "\n",
            "Fold 2:\n",
            "R2 score: 0.9121903393165897\n",
            "Beta matrix: [-2.63902208e+06  2.33307073e+05  1.56626077e+05  1.30406906e+05\n",
            "  3.04321514e+02  1.06328983e+05]\n",
            "\n",
            "Fold 3:\n",
            "R2 score: 0.9228419827002154\n",
            "Beta matrix: [-2.63514139e+06  2.32945080e+05  1.57461365e+05  1.29351804e+05\n",
            "  1.36403325e+03  1.05185117e+05]\n",
            "\n",
            "Fold 4:\n",
            "R2 score: 0.91142958247775\n",
            "Beta matrix: [-2.64399966e+06  2.32450629e+05  1.57848023e+05  1.30152520e+05\n",
            "  1.51006242e+03  1.05947094e+05]\n",
            "\n",
            "Fold 5:\n",
            "R2 score: 0.9210228571486787\n",
            "Beta matrix: [-2.63860133e+06  2.32139931e+05  1.57583783e+05  1.30350546e+05\n",
            "  1.21165305e+03  1.05636859e+05]\n",
            "\n",
            "R2 score on test data: 0.9146818498916275\n",
            "Best beta coefficients: [-2.63867343e+06  2.32913636e+05  1.57626953e+05  1.28929762e+05\n",
            "  1.53471192e+03  1.05940447e+05]\n"
          ]
        }
      ]
    },
    {
      "cell_type": "markdown",
      "source": [
        "2\n"
      ],
      "metadata": {
        "id": "I79pawZyGrBN"
      }
    },
    {
      "cell_type": "code",
      "source": [
        "# Step 1: Divide the dataset into training, validation, and test sets\n",
        "x_trainval, x_test, y_trainval, y_test = train_test_split(x, y, test_size=0.3, random_state=42)\n",
        "x_train, x_val, y_train, y_val = train_test_split(x_trainval, y_trainval, test_size=0.2, random_state=42)\n",
        "\n",
        "# Step 2: Choose four different values of the learning rate\n",
        "learning_rates = [0.001, 0.01, 0.1, 1]\n",
        "\n",
        "# Step 3-6: Train the model, compute regression coefficients, and evaluate performance for each learning rate\n",
        "best_r2_score = -np.inf\n",
        "best_beta_coefficients = None\n",
        "\n",
        "for lr in learning_rates:\n",
        "    # Initialize beta coefficients\n",
        "    beta = np.zeros(x_train.shape[1] + 1)\n",
        "\n",
        "    # Perform gradient descent\n",
        "    for _ in range(450):  # 1000 iterations\n",
        "        # Compute predictions\n",
        "        y_pred = np.dot(x_train, beta[1:]) + beta[0]\n",
        "\n",
        "        # Compute errors\n",
        "        errors = y_train - y_pred\n",
        "\n",
        "        # Compute gradients\n",
        "        gradients = -2 * np.dot(errors, x_train) / len(y_train)\n",
        "        gradients /= np.linalg.norm(gradients)\n",
        "        # Update beta coefficients\n",
        "        beta[1:] -= lr * gradients\n",
        "        beta[0] -= lr * np.mean(errors)\n",
        "\n",
        "    # Compute R2 score for validation set\n",
        "    # print(errors)\n",
        "    # print(gradients)\n",
        "    y_val_pred = np.dot(x_val, beta[1:]) + beta[0]\n",
        "    r2_val = r2_score(y_val, y_val_pred)\n",
        "\n",
        "    # Compute R2 score for test set\n",
        "    y_test_pred = np.dot(x_test, beta[1:]) + beta[0]\n",
        "    r2_test = r2_score(y_test, y_test_pred)\n",
        "    # print(x_train.isnull().sum())\n",
        "    # print(x_val.isnull().sum())\n",
        "    # print(x_test.isnull().sum())\n",
        "    # print(y_train.isnull().sum())\n",
        "    # print(y_val.isnull().sum())\n",
        "    # print(y_test_.isnull().sum())\n",
        "    # print(lr)\n",
        "    # print(y_val_pred)\n",
        "    # print(y_test_pred)\n",
        "    # print('-----------------------------------------------------------------------------')\n",
        "\n",
        "\n",
        "\n",
        "\n",
        "    print(f\"Learning Rate: {lr}, R2 Score (Validation): {r2_val}, R2 Score (Test): {r2_test}\")\n",
        "\n",
        "    # Update best beta coefficients if R2 score on validation set is higher\n",
        "    if r2_val > best_r2_score:\n",
        "        best_r2_score = r2_val\n",
        "        best_beta_coefficients = beta\n",
        "\n",
        "print(\"Best beta coefficients:\", best_beta_coefficients)\n"
      ],
      "metadata": {
        "colab": {
          "base_uri": "https://localhost:8080/"
        },
        "id": "6Xnxm_A8HEL_",
        "outputId": "23813f7c-a9ba-49d7-cb84-e223833f3875"
      },
      "execution_count": 40,
      "outputs": [
        {
          "output_type": "stream",
          "name": "stdout",
          "text": [
            "Learning Rate: 0.001, R2 Score (Validation): -29.510329956301987, R2 Score (Test): -31.9259774270362\n",
            "Learning Rate: 0.01, R2 Score (Validation): -95036.8187079881, R2 Score (Test): -99747.88685505732\n",
            "Learning Rate: 0.1, R2 Score (Validation): -2.1990787482801517e+38, R2 Score (Test): -2.3068254995824155e+38\n",
            "Learning Rate: 1, R2 Score (Validation): -1.0370990508822434e+272, R2 Score (Test): -1.0879130808930448e+272\n",
            "Best beta coefficients: [-6.99971422e+05  2.10556881e-01  2.06367108e-01  2.12984216e-01\n",
            "  2.01835635e-01  1.71692773e-01]\n"
          ]
        }
      ]
    },
    {
      "cell_type": "markdown",
      "source": [
        "1. Load the dataset with following column names [&quot;symboling&quot;, &quot;normalized_losses&quot;,\n",
        "&quot;make&quot;, &quot;fuel_type&quot;, &quot;aspiration&quot;,&quot;num_doors&quot;, &quot;body_style&quot;, &quot;drive_wheels&quot;,\n",
        "&quot;engine_location&quot;, &quot;wheel_base&quot;, &quot;length&quot;, &quot;width&quot;, &quot;height&quot;, &quot;curb_weight&quot;,\n",
        "&quot;engine_type&quot;, &quot;num_cylinders&quot;, &quot;engine_size&quot;, &quot;fuel_system&quot;, &quot;bore&quot;, &quot;stroke&quot;,\n",
        "&quot;compression_ratio&quot;, &quot;horsepower&quot;, &quot;peak_rpm&quot;, &quot;city_mpg&quot;, &quot;highway_mpg&quot;, &quot;price&quot;]\n",
        "and replace all ? values with NaN\n",
        "2. Replace all NaN values with central tendency imputation. Drop the rows with NaN\n",
        "values in price column\n",
        "3. There are 10 columns in the dataset with non-numeric values. Convert these values to\n",
        "numeric values using following scheme:\n",
        "(i) For “num_doors” and “num_cylinders”: convert words (number names) to figures\n",
        "for e.g., two to 2\n",
        "(ii) For &quot;body_style&quot;, &quot;drive_wheels&quot;: use dummy encoding scheme\n",
        "(iii) For “make”, “aspiration”, “engine_location”,fuel_type: use label encoding\n",
        "scheme\n",
        "(iv) For fuel_system: replace values containing string pfi to 1 else all values to 0.\n",
        "(v) For engine_type: replace values containing string ohc to 1 else all values to 0.\n",
        "4. Divide the dataset into input features (all columns except price) and output variable\n",
        "(price). Scale all input features.\n",
        "5. Train a linear regressor on 70% of data (using inbuilt linear regression function of\n",
        "Python) and test its performance on remaining 30% of data.\n",
        "6. Reduce the dimensionality of the feature set using inbuilt PCA decomposition and then\n",
        "again train a linear regressor on 70% of reduced data (using inbuilt linear regression\n",
        "function of Python). Does it lead to any performance improvement on test set?"
      ],
      "metadata": {
        "id": "kb5QHGaFNMoW"
      }
    },
    {
      "cell_type": "code",
      "source": [
        "from sklearn.impute import SimpleImputer\n",
        "from sklearn.preprocessing import LabelEncoder, OneHotEncoder, StandardScaler\n",
        "from sklearn.model_selection import train_test_split\n",
        "from sklearn.linear_model import LinearRegression\n",
        "from sklearn.decomposition import PCA\n",
        "from sklearn.metrics import mean_squared_error"
      ],
      "metadata": {
        "id": "HytYihcUOJtr"
      },
      "execution_count": 48,
      "outputs": []
    },
    {
      "cell_type": "code",
      "source": [
        "data1= pd.read_csv('/content/Automobile_data.csv',na_values='?')"
      ],
      "metadata": {
        "id": "_M3sMcrINPpo"
      },
      "execution_count": 85,
      "outputs": []
    },
    {
      "cell_type": "code",
      "source": [
        "print(data1.head())"
      ],
      "metadata": {
        "colab": {
          "base_uri": "https://localhost:8080/"
        },
        "id": "ArI_E4_ENcYf",
        "outputId": "303a5020-817a-44a5-d434-2e8ea3e8636a"
      },
      "execution_count": 86,
      "outputs": [
        {
          "output_type": "stream",
          "name": "stdout",
          "text": [
            "   symboling  normalized-losses         make fuel-type aspiration  \\\n",
            "0          3                NaN  alfa-romero       gas        std   \n",
            "1          3                NaN  alfa-romero       gas        std   \n",
            "2          1                NaN  alfa-romero       gas        std   \n",
            "3          2              164.0         audi       gas        std   \n",
            "4          2              164.0         audi       gas        std   \n",
            "\n",
            "  num-of-doors   body-style drive-wheels engine-location  wheel-base  ...  \\\n",
            "0          two  convertible          rwd           front        88.6  ...   \n",
            "1          two  convertible          rwd           front        88.6  ...   \n",
            "2          two    hatchback          rwd           front        94.5  ...   \n",
            "3         four        sedan          fwd           front        99.8  ...   \n",
            "4         four        sedan          4wd           front        99.4  ...   \n",
            "\n",
            "   engine-size  fuel-system  bore  stroke compression-ratio horsepower  \\\n",
            "0          130         mpfi  3.47    2.68               9.0      111.0   \n",
            "1          130         mpfi  3.47    2.68               9.0      111.0   \n",
            "2          152         mpfi  2.68    3.47               9.0      154.0   \n",
            "3          109         mpfi  3.19    3.40              10.0      102.0   \n",
            "4          136         mpfi  3.19    3.40               8.0      115.0   \n",
            "\n",
            "   peak-rpm city-mpg  highway-mpg    price  \n",
            "0    5000.0       21           27  13495.0  \n",
            "1    5000.0       21           27  16500.0  \n",
            "2    5000.0       19           26  16500.0  \n",
            "3    5500.0       24           30  13950.0  \n",
            "4    5500.0       18           22  17450.0  \n",
            "\n",
            "[5 rows x 26 columns]\n"
          ]
        }
      ]
    },
    {
      "cell_type": "code",
      "source": [
        "data1.info()"
      ],
      "metadata": {
        "colab": {
          "base_uri": "https://localhost:8080/"
        },
        "id": "Q3c6s-9VOZIR",
        "outputId": "60643125-5b64-42e0-9fab-d0a38b4689d8"
      },
      "execution_count": 87,
      "outputs": [
        {
          "output_type": "stream",
          "name": "stdout",
          "text": [
            "<class 'pandas.core.frame.DataFrame'>\n",
            "RangeIndex: 205 entries, 0 to 204\n",
            "Data columns (total 26 columns):\n",
            " #   Column             Non-Null Count  Dtype  \n",
            "---  ------             --------------  -----  \n",
            " 0   symboling          205 non-null    int64  \n",
            " 1   normalized-losses  164 non-null    float64\n",
            " 2   make               205 non-null    object \n",
            " 3   fuel-type          205 non-null    object \n",
            " 4   aspiration         205 non-null    object \n",
            " 5   num-of-doors       203 non-null    object \n",
            " 6   body-style         205 non-null    object \n",
            " 7   drive-wheels       205 non-null    object \n",
            " 8   engine-location    205 non-null    object \n",
            " 9   wheel-base         205 non-null    float64\n",
            " 10  length             205 non-null    float64\n",
            " 11  width              205 non-null    float64\n",
            " 12  height             205 non-null    float64\n",
            " 13  curb-weight        205 non-null    int64  \n",
            " 14  engine-type        205 non-null    object \n",
            " 15  num-of-cylinders   205 non-null    object \n",
            " 16  engine-size        205 non-null    int64  \n",
            " 17  fuel-system        205 non-null    object \n",
            " 18  bore               201 non-null    float64\n",
            " 19  stroke             201 non-null    float64\n",
            " 20  compression-ratio  205 non-null    float64\n",
            " 21  horsepower         203 non-null    float64\n",
            " 22  peak-rpm           203 non-null    float64\n",
            " 23  city-mpg           205 non-null    int64  \n",
            " 24  highway-mpg        205 non-null    int64  \n",
            " 25  price              201 non-null    float64\n",
            "dtypes: float64(11), int64(5), object(10)\n",
            "memory usage: 41.8+ KB\n"
          ]
        }
      ]
    },
    {
      "cell_type": "code",
      "source": [
        "print(set(data1['num-of-doors']))\n",
        "print(set(data1['num-of-cylinders']))"
      ],
      "metadata": {
        "colab": {
          "base_uri": "https://localhost:8080/"
        },
        "id": "wC3XUBzePHDu",
        "outputId": "b1158d0e-18ca-414b-9f4f-903effd5b18c"
      },
      "execution_count": 88,
      "outputs": [
        {
          "output_type": "stream",
          "name": "stdout",
          "text": [
            "{nan, 'two', 'four'}\n",
            "{'twelve', 'four', 'eight', 'six', 'five', 'three', 'two'}\n"
          ]
        }
      ]
    },
    {
      "cell_type": "code",
      "source": [
        "# Convert words to figures in 'num_doors'\n",
        "data1['num-of-doors'] = data1['num-of-doors'].replace({ 'two': 2, 'four': 4})\n",
        "data1['num-of-cylinders']=data1['num-of-cylinders'].replace({'twelve': 12, 'four': 4, 'eight': 8, 'six': 6, 'five': 5, 'three': 3, 'two': 2}\n",
        ")"
      ],
      "metadata": {
        "id": "zvO-eC_dO5Io"
      },
      "execution_count": 89,
      "outputs": []
    },
    {
      "cell_type": "code",
      "source": [
        "data1.info()"
      ],
      "metadata": {
        "colab": {
          "base_uri": "https://localhost:8080/"
        },
        "id": "IQT3nH0SPoSY",
        "outputId": "2522e6f0-e5b5-462b-f4f4-fcdfd31018f0"
      },
      "execution_count": 90,
      "outputs": [
        {
          "output_type": "stream",
          "name": "stdout",
          "text": [
            "<class 'pandas.core.frame.DataFrame'>\n",
            "RangeIndex: 205 entries, 0 to 204\n",
            "Data columns (total 26 columns):\n",
            " #   Column             Non-Null Count  Dtype  \n",
            "---  ------             --------------  -----  \n",
            " 0   symboling          205 non-null    int64  \n",
            " 1   normalized-losses  164 non-null    float64\n",
            " 2   make               205 non-null    object \n",
            " 3   fuel-type          205 non-null    object \n",
            " 4   aspiration         205 non-null    object \n",
            " 5   num-of-doors       203 non-null    float64\n",
            " 6   body-style         205 non-null    object \n",
            " 7   drive-wheels       205 non-null    object \n",
            " 8   engine-location    205 non-null    object \n",
            " 9   wheel-base         205 non-null    float64\n",
            " 10  length             205 non-null    float64\n",
            " 11  width              205 non-null    float64\n",
            " 12  height             205 non-null    float64\n",
            " 13  curb-weight        205 non-null    int64  \n",
            " 14  engine-type        205 non-null    object \n",
            " 15  num-of-cylinders   205 non-null    int64  \n",
            " 16  engine-size        205 non-null    int64  \n",
            " 17  fuel-system        205 non-null    object \n",
            " 18  bore               201 non-null    float64\n",
            " 19  stroke             201 non-null    float64\n",
            " 20  compression-ratio  205 non-null    float64\n",
            " 21  horsepower         203 non-null    float64\n",
            " 22  peak-rpm           203 non-null    float64\n",
            " 23  city-mpg           205 non-null    int64  \n",
            " 24  highway-mpg        205 non-null    int64  \n",
            " 25  price              201 non-null    float64\n",
            "dtypes: float64(12), int64(6), object(8)\n",
            "memory usage: 41.8+ KB\n"
          ]
        }
      ]
    },
    {
      "cell_type": "code",
      "source": [
        "data1=data1.dropna(subset=['price'])\n",
        "columns=['normalized-losses','num-of-doors','bore','stroke','horsepower','peak-rpm','num-of-cylinders']\n",
        "data1_numeric = data1[columns]\n",
        "imputer = SimpleImputer(strategy='mean')\n",
        "data1_numeric = imputer.fit_transform(data1_numeric)\n",
        "data1[columns]=data1_numeric"
      ],
      "metadata": {
        "id": "ZPmiIifIN_qs"
      },
      "execution_count": 92,
      "outputs": []
    },
    {
      "cell_type": "code",
      "source": [
        "data1.info()"
      ],
      "metadata": {
        "colab": {
          "base_uri": "https://localhost:8080/"
        },
        "id": "1RCVQMPYQn3e",
        "outputId": "9e5be607-7247-4987-fafb-a02f891e5b69"
      },
      "execution_count": 93,
      "outputs": [
        {
          "output_type": "stream",
          "name": "stdout",
          "text": [
            "<class 'pandas.core.frame.DataFrame'>\n",
            "Index: 201 entries, 0 to 204\n",
            "Data columns (total 26 columns):\n",
            " #   Column             Non-Null Count  Dtype  \n",
            "---  ------             --------------  -----  \n",
            " 0   symboling          201 non-null    int64  \n",
            " 1   normalized-losses  201 non-null    float64\n",
            " 2   make               201 non-null    object \n",
            " 3   fuel-type          201 non-null    object \n",
            " 4   aspiration         201 non-null    object \n",
            " 5   num-of-doors       201 non-null    float64\n",
            " 6   body-style         201 non-null    object \n",
            " 7   drive-wheels       201 non-null    object \n",
            " 8   engine-location    201 non-null    object \n",
            " 9   wheel-base         201 non-null    float64\n",
            " 10  length             201 non-null    float64\n",
            " 11  width              201 non-null    float64\n",
            " 12  height             201 non-null    float64\n",
            " 13  curb-weight        201 non-null    int64  \n",
            " 14  engine-type        201 non-null    object \n",
            " 15  num-of-cylinders   201 non-null    float64\n",
            " 16  engine-size        201 non-null    int64  \n",
            " 17  fuel-system        201 non-null    object \n",
            " 18  bore               201 non-null    float64\n",
            " 19  stroke             201 non-null    float64\n",
            " 20  compression-ratio  201 non-null    float64\n",
            " 21  horsepower         201 non-null    float64\n",
            " 22  peak-rpm           201 non-null    float64\n",
            " 23  city-mpg           201 non-null    int64  \n",
            " 24  highway-mpg        201 non-null    int64  \n",
            " 25  price              201 non-null    float64\n",
            "dtypes: float64(13), int64(5), object(8)\n",
            "memory usage: 42.4+ KB\n"
          ]
        }
      ]
    },
    {
      "cell_type": "code",
      "source": [
        "data1 = pd.get_dummies(data1, columns=['body-style', 'drive-wheels'], drop_first=True)"
      ],
      "metadata": {
        "id": "gm9LoIlBQwAx"
      },
      "execution_count": 94,
      "outputs": []
    },
    {
      "cell_type": "code",
      "source": [
        "label_encoders = {}\n",
        "for col in ['make', 'aspiration', 'engine-location', 'fuel-type']:\n",
        "    label_encoders[col] = LabelEncoder()\n",
        "    data1[col] = label_encoders[col].fit_transform(data1[col])"
      ],
      "metadata": {
        "id": "I23XLI6eQ-WQ"
      },
      "execution_count": 95,
      "outputs": []
    },
    {
      "cell_type": "code",
      "source": [
        "data1['fuel-system'] = data1['fuel-system'].apply(lambda x: 1 if 'pfi' in str(x) else 0)\n",
        "data1['engine-type'] = data1['engine-type'].apply(lambda x: 1 if 'ohc' in str(x) else 0)\n"
      ],
      "metadata": {
        "id": "qNnLJsnyRIw6"
      },
      "execution_count": 96,
      "outputs": []
    },
    {
      "cell_type": "code",
      "source": [
        "x = data1.drop(columns=['price'])\n",
        "y = data1['price']"
      ],
      "metadata": {
        "id": "X9z6y15zRWIC"
      },
      "execution_count": 97,
      "outputs": []
    },
    {
      "cell_type": "code",
      "source": [
        "numeric_col=[]\n",
        "for column in x.columns:\n",
        "    if x[column].dtype != \"object\":\n",
        "        numeric_col.append(column)\n",
        "x1=x[numeric_col]\n",
        "scaler = StandardScaler()\n",
        "X_scaled = scaler.fit_transform(x1)"
      ],
      "metadata": {
        "id": "k7zqvZRCRQ0J"
      },
      "execution_count": 98,
      "outputs": []
    },
    {
      "cell_type": "code",
      "source": [
        "x[numeric_col]=x1"
      ],
      "metadata": {
        "id": "bdL-ra35SJ9v"
      },
      "execution_count": 99,
      "outputs": []
    },
    {
      "cell_type": "code",
      "source": [
        "X_train, X_test, y_train, y_test = train_test_split(x, y, test_size=0.3, random_state=42)\n",
        "regressor = LinearRegression()\n",
        "regressor.fit(X_train, y_train)\n",
        "y_pred = regressor.predict(X_test)\n",
        "mse = mean_squared_error(y_test, y_pred)\n",
        "print(\"Mean Squared Error:\", mse)"
      ],
      "metadata": {
        "colab": {
          "base_uri": "https://localhost:8080/"
        },
        "id": "vp9FPaN9Sb7M",
        "outputId": "3c3295b7-39a1-4aed-a784-7dfbf00556e2"
      },
      "execution_count": 100,
      "outputs": [
        {
          "output_type": "stream",
          "name": "stdout",
          "text": [
            "Mean Squared Error: 12038427.941852089\n"
          ]
        }
      ]
    },
    {
      "cell_type": "code",
      "source": [
        "print(X_train.dtypes)\n",
        "print(y_train.dtypes)"
      ],
      "metadata": {
        "colab": {
          "base_uri": "https://localhost:8080/"
        },
        "id": "VHmTFgv-S6Fp",
        "outputId": "5089e4f7-9b8f-4c1c-d427-5fbe5dfa5daf"
      },
      "execution_count": 101,
      "outputs": [
        {
          "output_type": "stream",
          "name": "stdout",
          "text": [
            "symboling                 int64\n",
            "normalized-losses       float64\n",
            "make                      int64\n",
            "fuel-type                 int64\n",
            "aspiration                int64\n",
            "num-of-doors            float64\n",
            "engine-location           int64\n",
            "wheel-base              float64\n",
            "length                  float64\n",
            "width                   float64\n",
            "height                  float64\n",
            "curb-weight               int64\n",
            "engine-type               int64\n",
            "num-of-cylinders        float64\n",
            "engine-size               int64\n",
            "fuel-system               int64\n",
            "bore                    float64\n",
            "stroke                  float64\n",
            "compression-ratio       float64\n",
            "horsepower              float64\n",
            "peak-rpm                float64\n",
            "city-mpg                  int64\n",
            "highway-mpg               int64\n",
            "body-style_hardtop         bool\n",
            "body-style_hatchback       bool\n",
            "body-style_sedan           bool\n",
            "body-style_wagon           bool\n",
            "drive-wheels_fwd           bool\n",
            "drive-wheels_rwd           bool\n",
            "dtype: object\n",
            "float64\n"
          ]
        }
      ]
    },
    {
      "cell_type": "code",
      "source": [
        "pca = PCA(n_components=10)  # Choose number of components as per your requirement\n",
        "X_train_pca = pca.fit_transform(X_train)\n",
        "X_test_pca = pca.transform(X_test)"
      ],
      "metadata": {
        "id": "bkXtBh2ZSgLU"
      },
      "execution_count": 102,
      "outputs": []
    },
    {
      "cell_type": "code",
      "source": [
        "regressor_pca = LinearRegression()\n",
        "regressor_pca.fit(X_train_pca, y_train)\n",
        "y_pred_pca = regressor_pca.predict(X_test_pca)\n",
        "mse_pca = mean_squared_error(y_test, y_pred_pca)\n",
        "print(\"Mean Squared Error (with PCA):\", mse_pca)"
      ],
      "metadata": {
        "colab": {
          "base_uri": "https://localhost:8080/"
        },
        "id": "y1BEOc4dSjd9",
        "outputId": "3ca1f215-dab9-45c0-82af-6dc10ffb5d03"
      },
      "execution_count": 103,
      "outputs": [
        {
          "output_type": "stream",
          "name": "stdout",
          "text": [
            "Mean Squared Error (with PCA): 19948213.20966968\n"
          ]
        }
      ]
    }
  ]
}